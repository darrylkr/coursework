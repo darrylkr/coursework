{
 "cells": [
  {
   "cell_type": "markdown",
   "metadata": {},
   "source": [
    "The dataset 'YearPredictionMSD' is a subset of the Million Song Dataset from: https://archive.ics.uci.edu/ml/datasets/YearPredictionMSD\n",
    "\n",
    "The objective of this project is to apply various regression models on the dataset using Spark ML to predict the release year of a song from it's audio features.\n",
    "\n",
    "Use the first 463,715 examples as the training dataset and the last 51,630 examples as the test dataset."
   ]
  },
  {
   "cell_type": "code",
   "execution_count": 1,
   "metadata": {
    "ExecuteTime": {
     "end_time": "2022-06-15T14:53:43.781862Z",
     "start_time": "2022-06-15T14:53:38.581493Z"
    }
   },
   "outputs": [],
   "source": [
    "import findspark\n",
    "findspark.init()\n",
    "import pyspark # only run after findspark.init()\n",
    "from pyspark.sql import SparkSession\n",
    "spark = SparkSession.builder.config(\"spark-master\", \"local\").getOrCreate()"
   ]
  },
  {
   "cell_type": "code",
   "execution_count": 2,
   "metadata": {
    "ExecuteTime": {
     "end_time": "2022-06-15T14:53:43.797821Z",
     "start_time": "2022-06-15T14:53:43.783858Z"
    }
   },
   "outputs": [],
   "source": [
    "columns = [\"Timbre_Avg_{:02d}\".format(i+1) for i in range(12)] + [\"Timbre_Covar_{:02d}\".format(i+1) for i in range(78)]"
   ]
  },
  {
   "cell_type": "code",
   "execution_count": 3,
   "metadata": {
    "ExecuteTime": {
     "end_time": "2022-06-15T14:53:43.813810Z",
     "start_time": "2022-06-15T14:53:43.800813Z"
    }
   },
   "outputs": [],
   "source": [
    "from pyspark.sql.types import *\n",
    "from pyspark.sql.functions import *"
   ]
  },
  {
   "cell_type": "code",
   "execution_count": 4,
   "metadata": {
    "ExecuteTime": {
     "end_time": "2022-06-15T14:53:43.829767Z",
     "start_time": "2022-06-15T14:53:43.816769Z"
    }
   },
   "outputs": [],
   "source": [
    "mySchema = StructType([StructField(c, FloatType(), False) for c in columns])"
   ]
  },
  {
   "cell_type": "code",
   "execution_count": 5,
   "metadata": {
    "ExecuteTime": {
     "end_time": "2022-06-15T14:53:43.844827Z",
     "start_time": "2022-06-15T14:53:43.831730Z"
    }
   },
   "outputs": [],
   "source": [
    "to_prepend = [StructField(\"Year\", ShortType(), False)] \n",
    "mySchema = StructType(to_prepend + mySchema.fields)"
   ]
  },
  {
   "cell_type": "code",
   "execution_count": 6,
   "metadata": {
    "ExecuteTime": {
     "end_time": "2022-06-15T14:53:45.177123Z",
     "start_time": "2022-06-15T14:53:43.845824Z"
    }
   },
   "outputs": [
    {
     "name": "stdout",
     "output_type": "stream",
     "text": [
      "root\n",
      " |-- Year: short (nullable = true)\n",
      " |-- Timbre_Avg_01: float (nullable = true)\n",
      " |-- Timbre_Avg_02: float (nullable = true)\n",
      " |-- Timbre_Avg_03: float (nullable = true)\n",
      " |-- Timbre_Avg_04: float (nullable = true)\n",
      " |-- Timbre_Avg_05: float (nullable = true)\n",
      " |-- Timbre_Avg_06: float (nullable = true)\n",
      " |-- Timbre_Avg_07: float (nullable = true)\n",
      " |-- Timbre_Avg_08: float (nullable = true)\n",
      " |-- Timbre_Avg_09: float (nullable = true)\n",
      " |-- Timbre_Avg_10: float (nullable = true)\n",
      " |-- Timbre_Avg_11: float (nullable = true)\n",
      " |-- Timbre_Avg_12: float (nullable = true)\n",
      " |-- Timbre_Covar_01: float (nullable = true)\n",
      " |-- Timbre_Covar_02: float (nullable = true)\n",
      " |-- Timbre_Covar_03: float (nullable = true)\n",
      " |-- Timbre_Covar_04: float (nullable = true)\n",
      " |-- Timbre_Covar_05: float (nullable = true)\n",
      " |-- Timbre_Covar_06: float (nullable = true)\n",
      " |-- Timbre_Covar_07: float (nullable = true)\n",
      " |-- Timbre_Covar_08: float (nullable = true)\n",
      " |-- Timbre_Covar_09: float (nullable = true)\n",
      " |-- Timbre_Covar_10: float (nullable = true)\n",
      " |-- Timbre_Covar_11: float (nullable = true)\n",
      " |-- Timbre_Covar_12: float (nullable = true)\n",
      " |-- Timbre_Covar_13: float (nullable = true)\n",
      " |-- Timbre_Covar_14: float (nullable = true)\n",
      " |-- Timbre_Covar_15: float (nullable = true)\n",
      " |-- Timbre_Covar_16: float (nullable = true)\n",
      " |-- Timbre_Covar_17: float (nullable = true)\n",
      " |-- Timbre_Covar_18: float (nullable = true)\n",
      " |-- Timbre_Covar_19: float (nullable = true)\n",
      " |-- Timbre_Covar_20: float (nullable = true)\n",
      " |-- Timbre_Covar_21: float (nullable = true)\n",
      " |-- Timbre_Covar_22: float (nullable = true)\n",
      " |-- Timbre_Covar_23: float (nullable = true)\n",
      " |-- Timbre_Covar_24: float (nullable = true)\n",
      " |-- Timbre_Covar_25: float (nullable = true)\n",
      " |-- Timbre_Covar_26: float (nullable = true)\n",
      " |-- Timbre_Covar_27: float (nullable = true)\n",
      " |-- Timbre_Covar_28: float (nullable = true)\n",
      " |-- Timbre_Covar_29: float (nullable = true)\n",
      " |-- Timbre_Covar_30: float (nullable = true)\n",
      " |-- Timbre_Covar_31: float (nullable = true)\n",
      " |-- Timbre_Covar_32: float (nullable = true)\n",
      " |-- Timbre_Covar_33: float (nullable = true)\n",
      " |-- Timbre_Covar_34: float (nullable = true)\n",
      " |-- Timbre_Covar_35: float (nullable = true)\n",
      " |-- Timbre_Covar_36: float (nullable = true)\n",
      " |-- Timbre_Covar_37: float (nullable = true)\n",
      " |-- Timbre_Covar_38: float (nullable = true)\n",
      " |-- Timbre_Covar_39: float (nullable = true)\n",
      " |-- Timbre_Covar_40: float (nullable = true)\n",
      " |-- Timbre_Covar_41: float (nullable = true)\n",
      " |-- Timbre_Covar_42: float (nullable = true)\n",
      " |-- Timbre_Covar_43: float (nullable = true)\n",
      " |-- Timbre_Covar_44: float (nullable = true)\n",
      " |-- Timbre_Covar_45: float (nullable = true)\n",
      " |-- Timbre_Covar_46: float (nullable = true)\n",
      " |-- Timbre_Covar_47: float (nullable = true)\n",
      " |-- Timbre_Covar_48: float (nullable = true)\n",
      " |-- Timbre_Covar_49: float (nullable = true)\n",
      " |-- Timbre_Covar_50: float (nullable = true)\n",
      " |-- Timbre_Covar_51: float (nullable = true)\n",
      " |-- Timbre_Covar_52: float (nullable = true)\n",
      " |-- Timbre_Covar_53: float (nullable = true)\n",
      " |-- Timbre_Covar_54: float (nullable = true)\n",
      " |-- Timbre_Covar_55: float (nullable = true)\n",
      " |-- Timbre_Covar_56: float (nullable = true)\n",
      " |-- Timbre_Covar_57: float (nullable = true)\n",
      " |-- Timbre_Covar_58: float (nullable = true)\n",
      " |-- Timbre_Covar_59: float (nullable = true)\n",
      " |-- Timbre_Covar_60: float (nullable = true)\n",
      " |-- Timbre_Covar_61: float (nullable = true)\n",
      " |-- Timbre_Covar_62: float (nullable = true)\n",
      " |-- Timbre_Covar_63: float (nullable = true)\n",
      " |-- Timbre_Covar_64: float (nullable = true)\n",
      " |-- Timbre_Covar_65: float (nullable = true)\n",
      " |-- Timbre_Covar_66: float (nullable = true)\n",
      " |-- Timbre_Covar_67: float (nullable = true)\n",
      " |-- Timbre_Covar_68: float (nullable = true)\n",
      " |-- Timbre_Covar_69: float (nullable = true)\n",
      " |-- Timbre_Covar_70: float (nullable = true)\n",
      " |-- Timbre_Covar_71: float (nullable = true)\n",
      " |-- Timbre_Covar_72: float (nullable = true)\n",
      " |-- Timbre_Covar_73: float (nullable = true)\n",
      " |-- Timbre_Covar_74: float (nullable = true)\n",
      " |-- Timbre_Covar_75: float (nullable = true)\n",
      " |-- Timbre_Covar_76: float (nullable = true)\n",
      " |-- Timbre_Covar_77: float (nullable = true)\n",
      " |-- Timbre_Covar_78: float (nullable = true)\n",
      "\n"
     ]
    }
   ],
   "source": [
    "df = spark.read.format(\"csv\").load(\"data/YearPredictionMSD.txt\", schema=mySchema)\n",
    "df.printSchema()"
   ]
  },
  {
   "cell_type": "code",
   "execution_count": 7,
   "metadata": {
    "ExecuteTime": {
     "end_time": "2022-06-15T14:53:47.252889Z",
     "start_time": "2022-06-15T14:53:45.179151Z"
    }
   },
   "outputs": [
    {
     "name": "stdout",
     "output_type": "stream",
     "text": [
      "+----+-------------+-------------+-------------+-------------+-------------+-------------+-------------+-------------+-------------+-------------+-------------+-------------+---------------+---------------+---------------+---------------+---------------+---------------+---------------+---------------+---------------+---------------+---------------+---------------+---------------+---------------+---------------+---------------+---------------+---------------+---------------+---------------+---------------+---------------+---------------+---------------+---------------+---------------+---------------+---------------+---------------+---------------+---------------+---------------+---------------+---------------+---------------+---------------+---------------+---------------+---------------+---------------+---------------+---------------+---------------+---------------+---------------+---------------+---------------+---------------+---------------+---------------+---------------+---------------+---------------+---------------+---------------+---------------+---------------+---------------+---------------+---------------+---------------+---------------+---------------+---------------+---------------+---------------+---------------+---------------+---------------+---------------+---------------+---------------+---------------+---------------+---------------+---------------+---------------+---------------+\n",
      "|Year|Timbre_Avg_01|Timbre_Avg_02|Timbre_Avg_03|Timbre_Avg_04|Timbre_Avg_05|Timbre_Avg_06|Timbre_Avg_07|Timbre_Avg_08|Timbre_Avg_09|Timbre_Avg_10|Timbre_Avg_11|Timbre_Avg_12|Timbre_Covar_01|Timbre_Covar_02|Timbre_Covar_03|Timbre_Covar_04|Timbre_Covar_05|Timbre_Covar_06|Timbre_Covar_07|Timbre_Covar_08|Timbre_Covar_09|Timbre_Covar_10|Timbre_Covar_11|Timbre_Covar_12|Timbre_Covar_13|Timbre_Covar_14|Timbre_Covar_15|Timbre_Covar_16|Timbre_Covar_17|Timbre_Covar_18|Timbre_Covar_19|Timbre_Covar_20|Timbre_Covar_21|Timbre_Covar_22|Timbre_Covar_23|Timbre_Covar_24|Timbre_Covar_25|Timbre_Covar_26|Timbre_Covar_27|Timbre_Covar_28|Timbre_Covar_29|Timbre_Covar_30|Timbre_Covar_31|Timbre_Covar_32|Timbre_Covar_33|Timbre_Covar_34|Timbre_Covar_35|Timbre_Covar_36|Timbre_Covar_37|Timbre_Covar_38|Timbre_Covar_39|Timbre_Covar_40|Timbre_Covar_41|Timbre_Covar_42|Timbre_Covar_43|Timbre_Covar_44|Timbre_Covar_45|Timbre_Covar_46|Timbre_Covar_47|Timbre_Covar_48|Timbre_Covar_49|Timbre_Covar_50|Timbre_Covar_51|Timbre_Covar_52|Timbre_Covar_53|Timbre_Covar_54|Timbre_Covar_55|Timbre_Covar_56|Timbre_Covar_57|Timbre_Covar_58|Timbre_Covar_59|Timbre_Covar_60|Timbre_Covar_61|Timbre_Covar_62|Timbre_Covar_63|Timbre_Covar_64|Timbre_Covar_65|Timbre_Covar_66|Timbre_Covar_67|Timbre_Covar_68|Timbre_Covar_69|Timbre_Covar_70|Timbre_Covar_71|Timbre_Covar_72|Timbre_Covar_73|Timbre_Covar_74|Timbre_Covar_75|Timbre_Covar_76|Timbre_Covar_77|Timbre_Covar_78|\n",
      "+----+-------------+-------------+-------------+-------------+-------------+-------------+-------------+-------------+-------------+-------------+-------------+-------------+---------------+---------------+---------------+---------------+---------------+---------------+---------------+---------------+---------------+---------------+---------------+---------------+---------------+---------------+---------------+---------------+---------------+---------------+---------------+---------------+---------------+---------------+---------------+---------------+---------------+---------------+---------------+---------------+---------------+---------------+---------------+---------------+---------------+---------------+---------------+---------------+---------------+---------------+---------------+---------------+---------------+---------------+---------------+---------------+---------------+---------------+---------------+---------------+---------------+---------------+---------------+---------------+---------------+---------------+---------------+---------------+---------------+---------------+---------------+---------------+---------------+---------------+---------------+---------------+---------------+---------------+---------------+---------------+---------------+---------------+---------------+---------------+---------------+---------------+---------------+---------------+---------------+---------------+\n",
      "|2001|     49.94357|     21.47114|      73.0775|      8.74861|    -17.40628|    -13.09905|    -25.01202|    -12.23257|      7.83089|     -2.46783|      3.32136|     -2.31521|       10.20556|      611.10913|       951.0896|      698.11426|      408.98486|       383.7091|       326.5151|      238.11327|      251.42413|      187.17351|      100.42652|      179.19498|       -8.41558|      -317.8704|       95.86266|       48.10259|      -95.66303|      -18.06215|        1.96984|       34.42438|        11.7267|         1.3679|        7.79444|       -0.36994|     -133.67851|      -83.26165|      -37.29765|       73.04667|      -37.36684|       -3.13853|      -24.21531|      -13.23066|       15.93809|      -18.60478|       82.15479|       240.5798|      -10.29407|       31.58431|      -25.38187|       -3.90772|       13.29258|        41.5506|       -7.26272|      -21.00863|      105.50848|       64.29856|       26.08481|       -44.5911|       -8.30657|        7.93706|       -10.7366|      -95.44766|      -82.03307|      -35.59194|        4.69525|       70.95626|       28.09139|        6.02015|      -37.13767|       -41.1245|       -8.40816|        7.19877|       -8.60176|       -5.90857|      -12.32437|       14.68734|      -54.32125|       40.14786|        13.0162|      -54.40548|       58.99367|       15.37344|        1.11144|      -23.08793|       68.40795|       -1.82223|      -27.46348|        2.26327|\n",
      "+----+-------------+-------------+-------------+-------------+-------------+-------------+-------------+-------------+-------------+-------------+-------------+-------------+---------------+---------------+---------------+---------------+---------------+---------------+---------------+---------------+---------------+---------------+---------------+---------------+---------------+---------------+---------------+---------------+---------------+---------------+---------------+---------------+---------------+---------------+---------------+---------------+---------------+---------------+---------------+---------------+---------------+---------------+---------------+---------------+---------------+---------------+---------------+---------------+---------------+---------------+---------------+---------------+---------------+---------------+---------------+---------------+---------------+---------------+---------------+---------------+---------------+---------------+---------------+---------------+---------------+---------------+---------------+---------------+---------------+---------------+---------------+---------------+---------------+---------------+---------------+---------------+---------------+---------------+---------------+---------------+---------------+---------------+---------------+---------------+---------------+---------------+---------------+---------------+---------------+---------------+\n",
      "only showing top 1 row\n",
      "\n"
     ]
    }
   ],
   "source": [
    "df.show(1)"
   ]
  },
  {
   "cell_type": "code",
   "execution_count": 8,
   "metadata": {
    "ExecuteTime": {
     "end_time": "2022-06-15T14:53:47.409463Z",
     "start_time": "2022-06-15T14:53:47.255847Z"
    }
   },
   "outputs": [],
   "source": [
    "from pyspark.ml.feature import RFormula\n",
    "rForm = RFormula(formula=\"Year ~ .\")"
   ]
  },
  {
   "cell_type": "code",
   "execution_count": 9,
   "metadata": {
    "ExecuteTime": {
     "end_time": "2022-06-15T14:53:47.488225Z",
     "start_time": "2022-06-15T14:53:47.411432Z"
    }
   },
   "outputs": [],
   "source": [
    "df = df.withColumn(\"id\", monotonically_increasing_id())\n",
    "train = df.limit(463715).drop(\"id\")\n",
    "test = df.sort(desc(\"id\")).limit(51630).drop(\"id\")"
   ]
  },
  {
   "cell_type": "code",
   "execution_count": 10,
   "metadata": {
    "ExecuteTime": {
     "end_time": "2022-06-15T14:53:52.434330Z",
     "start_time": "2022-06-15T14:53:47.490221Z"
    }
   },
   "outputs": [
    {
     "data": {
      "text/plain": [
       "(463715, 51630)"
      ]
     },
     "execution_count": 10,
     "metadata": {},
     "output_type": "execute_result"
    }
   ],
   "source": [
    "train.count(), test.count()"
   ]
  },
  {
   "cell_type": "markdown",
   "metadata": {},
   "source": [
    "Use an id column to get first 463715 and last 51630 rows for train/test data"
   ]
  },
  {
   "cell_type": "code",
   "execution_count": 11,
   "metadata": {
    "ExecuteTime": {
     "end_time": "2022-06-15T14:53:54.908693Z",
     "start_time": "2022-06-15T14:53:54.839909Z"
    }
   },
   "outputs": [],
   "source": [
    "from pyspark.ml.regression import LinearRegression, DecisionTreeRegressor, GBTRegressor\n",
    "\n",
    "lr = LinearRegression().setLabelCol(\"label\").setFeaturesCol(\"features\")\n",
    "dt = DecisionTreeRegressor().setLabelCol(\"label\").setFeaturesCol(\"features\")\n",
    "gbt = GBTRegressor().setLabelCol(\"label\").setFeaturesCol(\"features\")"
   ]
  },
  {
   "cell_type": "markdown",
   "metadata": {},
   "source": [
    "initialize instances of the different regression models"
   ]
  },
  {
   "cell_type": "code",
   "execution_count": 12,
   "metadata": {
    "ExecuteTime": {
     "end_time": "2022-06-15T14:53:57.068430Z",
     "start_time": "2022-06-15T14:53:57.049852Z"
    }
   },
   "outputs": [],
   "source": [
    "from pyspark.ml import Pipeline\n",
    "lr_stages = [rForm, lr]\n",
    "dt_stages = [rForm, dt]\n",
    "gbt_stages = [rForm, gbt]\n",
    "\n",
    "lr_pipeline = Pipeline().setStages(lr_stages)\n",
    "dt_pipeline = Pipeline().setStages(dt_stages)\n",
    "gbt_pipeline = Pipeline().setStages(gbt_stages)"
   ]
  },
  {
   "cell_type": "markdown",
   "metadata": {},
   "source": [
    "pipeline the models with RFormula feature selection"
   ]
  },
  {
   "cell_type": "code",
   "execution_count": 13,
   "metadata": {
    "ExecuteTime": {
     "end_time": "2022-06-15T14:53:59.338356Z",
     "start_time": "2022-06-15T14:53:59.325391Z"
    }
   },
   "outputs": [],
   "source": [
    "from pyspark.ml.tuning import ParamGridBuilder\n",
    "\n",
    "lr_paramGrid = ParamGridBuilder()\\\n",
    ".addGrid(lr.regParam, [0.1, 0.01]) \\\n",
    ".addGrid(lr.fitIntercept, [False, True])\\\n",
    ".addGrid(lr.elasticNetParam, [0.0, 0.5, 1.0])\\\n",
    ".build()\n",
    "\n",
    "dt_paramGrid = ParamGridBuilder()\\\n",
    ".addGrid(dt.maxDepth, [5, 10, 15])\\\n",
    ".build()\n",
    "\n",
    "gbt_paramGrid = ParamGridBuilder()\\\n",
    ".addGrid(gbt.maxDepth, [5, 10, 15])\\\n",
    ".addGrid(gbt.maxIter, [5, 10])\\\n",
    ".build()"
   ]
  },
  {
   "cell_type": "markdown",
   "metadata": {},
   "source": [
    "use ParamGridBuilder to fine tune the parameters"
   ]
  },
  {
   "cell_type": "code",
   "execution_count": 14,
   "metadata": {
    "ExecuteTime": {
     "end_time": "2022-06-15T14:54:00.660153Z",
     "start_time": "2022-06-15T14:54:00.648220Z"
    }
   },
   "outputs": [],
   "source": [
    "from pyspark.ml.evaluation import RegressionEvaluator\n",
    "\n",
    "evaluator = RegressionEvaluator()\\\n",
    ".setMetricName(\"rmse\")\\\n",
    ".setPredictionCol(\"prediction\")\\\n",
    ".setLabelCol(\"label\")"
   ]
  },
  {
   "cell_type": "markdown",
   "metadata": {},
   "source": [
    "Regression Evaluator will use mean squared error as the evaluation metric"
   ]
  },
  {
   "cell_type": "code",
   "execution_count": 15,
   "metadata": {
    "ExecuteTime": {
     "end_time": "2022-06-15T14:54:02.216836Z",
     "start_time": "2022-06-15T14:54:02.204871Z"
    }
   },
   "outputs": [],
   "source": [
    "from pyspark.ml.tuning import TrainValidationSplit\n",
    "\n",
    "lr_tvs = TrainValidationSplit()\\\n",
    ".setTrainRatio(0.75)\\\n",
    ".setEstimatorParamMaps(lr_paramGrid)\\\n",
    ".setEstimator(lr_pipeline)\\\n",
    ".setEvaluator(evaluator)\n",
    "\n",
    "dt_tvs = TrainValidationSplit()\\\n",
    ".setTrainRatio(0.75)\\\n",
    ".setEstimatorParamMaps(dt_paramGrid)\\\n",
    ".setEstimator(dt_pipeline)\\\n",
    ".setEvaluator(evaluator)\n",
    "\n",
    "gbt_tvs = TrainValidationSplit()\\\n",
    ".setTrainRatio(0.75)\\\n",
    ".setEstimatorParamMaps(gbt_paramGrid)\\\n",
    ".setEstimator(gbt_pipeline)\\\n",
    ".setEvaluator(evaluator)"
   ]
  },
  {
   "cell_type": "markdown",
   "metadata": {},
   "source": [
    "TrainValidationSplit() will evaluate and choose the best set of parameters for the model based on the training data to be fitted on the model"
   ]
  },
  {
   "cell_type": "code",
   "execution_count": 16,
   "metadata": {
    "ExecuteTime": {
     "end_time": "2022-06-15T14:58:01.127359Z",
     "start_time": "2022-06-15T14:54:05.715059Z"
    }
   },
   "outputs": [],
   "source": [
    "#Linear Regression model\n",
    "lr_model = lr_tvs.fit(train)"
   ]
  },
  {
   "cell_type": "code",
   "execution_count": 17,
   "metadata": {
    "ExecuteTime": {
     "end_time": "2022-06-15T15:00:06.452972Z",
     "start_time": "2022-06-15T14:58:01.129320Z"
    }
   },
   "outputs": [],
   "source": [
    "#Decision Tree Regression model\n",
    "dt_model = dt_tvs.fit(train)"
   ]
  },
  {
   "cell_type": "code",
   "execution_count": 18,
   "metadata": {
    "ExecuteTime": {
     "end_time": "2022-06-15T15:23:01.734376Z",
     "start_time": "2022-06-15T15:00:06.453961Z"
    }
   },
   "outputs": [],
   "source": [
    "#Gradient-Boosted Tree Regression model\n",
    "gbt_model = gbt_tvs.fit(train)"
   ]
  },
  {
   "cell_type": "markdown",
   "metadata": {},
   "source": [
    "fit the 3 models using the training data set, then transform on the test data set to get the model's predictions"
   ]
  },
  {
   "cell_type": "code",
   "execution_count": 19,
   "metadata": {
    "ExecuteTime": {
     "end_time": "2022-06-15T15:55:35.685295Z",
     "start_time": "2022-06-15T15:55:30.430424Z"
    }
   },
   "outputs": [
    {
     "name": "stdout",
     "output_type": "stream",
     "text": [
      "+------+------------------+\n",
      "| label|        prediction|\n",
      "+------+------------------+\n",
      "|2005.0|1999.7225998533809|\n",
      "|2006.0| 2001.930661833288|\n",
      "|2006.0|1996.9653578829723|\n",
      "|2006.0|1999.5505932332421|\n",
      "|2006.0|2001.0638159046891|\n",
      "|2006.0|2000.9223374318403|\n",
      "|2005.0|2000.4758839806566|\n",
      "|2006.0|1996.0939362852807|\n",
      "|2005.0|2000.1890567411447|\n",
      "|1992.0|1994.8504773567388|\n",
      "|1992.0|1995.9048953979502|\n",
      "|1992.0|1997.5337765016818|\n",
      "|1992.0| 1995.606851655856|\n",
      "|1992.0|1997.6457792962956|\n",
      "|1992.0|1995.2427750982056|\n",
      "|1992.0| 1995.595865120552|\n",
      "|1992.0|1990.5308852005548|\n",
      "|1997.0|1996.0636990250678|\n",
      "|1994.0|1998.6703682904313|\n",
      "|1992.0|1999.3243119133053|\n",
      "+------+------------------+\n",
      "only showing top 20 rows\n",
      "\n"
     ]
    }
   ],
   "source": [
    "#Linear Regression Predictions\n",
    "lr_model.transform(test)\\\n",
    ".select(\"label\", \"prediction\")\\\n",
    ".show()"
   ]
  },
  {
   "cell_type": "code",
   "execution_count": 20,
   "metadata": {
    "ExecuteTime": {
     "end_time": "2022-06-15T15:55:50.168147Z",
     "start_time": "2022-06-15T15:55:45.821283Z"
    }
   },
   "outputs": [
    {
     "name": "stdout",
     "output_type": "stream",
     "text": [
      "+------+------------------+\n",
      "| label|        prediction|\n",
      "+------+------------------+\n",
      "|2005.0|2003.4903934126257|\n",
      "|2006.0| 2002.994966442953|\n",
      "|2006.0|         1995.9375|\n",
      "|2006.0| 2002.245283018868|\n",
      "|2006.0|2004.4741100323624|\n",
      "|2006.0| 2002.533659730722|\n",
      "|2005.0|1997.6642066420663|\n",
      "|2006.0|1989.7170963364993|\n",
      "|2005.0|2003.4903934126257|\n",
      "|1992.0|1997.7636363636364|\n",
      "|1992.0|2000.1210855949896|\n",
      "|1992.0|1989.8943584070796|\n",
      "|1992.0|1992.6595394736842|\n",
      "|1992.0|2000.1210855949896|\n",
      "|1992.0|1989.8943584070796|\n",
      "|1992.0|1999.2581602373887|\n",
      "|1992.0|1992.6608187134502|\n",
      "|1997.0|        1990.74375|\n",
      "|1994.0| 1993.596715328467|\n",
      "|1992.0|1989.1089630931458|\n",
      "+------+------------------+\n",
      "only showing top 20 rows\n",
      "\n"
     ]
    }
   ],
   "source": [
    "#Decision Tree Predictions\n",
    "dt_model.transform(test)\\\n",
    ".select(\"label\", \"prediction\")\\\n",
    ".show()"
   ]
  },
  {
   "cell_type": "code",
   "execution_count": 21,
   "metadata": {
    "ExecuteTime": {
     "end_time": "2022-06-15T15:55:56.198985Z",
     "start_time": "2022-06-15T15:55:50.170108Z"
    }
   },
   "outputs": [
    {
     "name": "stdout",
     "output_type": "stream",
     "text": [
      "+------+------------------+\n",
      "| label|        prediction|\n",
      "+------+------------------+\n",
      "|2005.0|2004.2185689503192|\n",
      "|2006.0| 1997.442248248616|\n",
      "|2006.0|2000.9502121309079|\n",
      "|2006.0| 2001.928149925323|\n",
      "|2006.0|2005.3385007848908|\n",
      "|2006.0|1999.0117181302767|\n",
      "|2005.0|1993.9580768774374|\n",
      "|2006.0|1989.1882444915184|\n",
      "|2005.0|2003.8556669238292|\n",
      "|1992.0|1999.6211594241215|\n",
      "|1992.0|1989.6934654399224|\n",
      "|1992.0|  1994.58014688302|\n",
      "|1992.0|1994.6878513023805|\n",
      "|1992.0|1999.1540143697835|\n",
      "|1992.0|1988.5878850941624|\n",
      "|1992.0|1999.1974168983206|\n",
      "|1992.0|1997.6926312401044|\n",
      "|1997.0|1993.3883113266165|\n",
      "|1994.0| 1994.612439871668|\n",
      "|1992.0| 1995.833415782612|\n",
      "+------+------------------+\n",
      "only showing top 20 rows\n",
      "\n"
     ]
    }
   ],
   "source": [
    "#GBT Tree Predictions \n",
    "gbt_model.transform(test)\\\n",
    ".select(\"label\", \"prediction\")\\\n",
    ".show()"
   ]
  },
  {
   "cell_type": "code",
   "execution_count": 22,
   "metadata": {
    "ExecuteTime": {
     "end_time": "2022-06-15T15:55:56.214942Z",
     "start_time": "2022-06-15T15:55:56.200981Z"
    }
   },
   "outputs": [],
   "source": [
    "evaluator2 = RegressionEvaluator()\\\n",
    ".setMetricName(\"r2\")\\\n",
    ".setPredictionCol(\"prediction\")\\\n",
    ".setLabelCol(\"label\")"
   ]
  },
  {
   "cell_type": "code",
   "execution_count": 23,
   "metadata": {
    "ExecuteTime": {
     "end_time": "2022-06-15T15:56:47.942891Z",
     "start_time": "2022-06-15T15:56:15.816450Z"
    }
   },
   "outputs": [
    {
     "name": "stdout",
     "output_type": "stream",
     "text": [
      "Linear Regression Model RMSE: 9.5105\n",
      "Linear Regression Model R2: 0.2319\n",
      "Decision Tree Regression Model RMSE: 9.7271\n",
      "Decision Tree Regression Model R2: 0.1966\n",
      "Gradient-Boosted Tree Regression Model RMSE: 9.5577\n",
      "Gradient-Boosted Tree Regression Model R2: 0.2243\n"
     ]
    }
   ],
   "source": [
    "#Mean Squared Error of the 3 models\n",
    "#R square of the 3 models\n",
    "\n",
    "print(\"Linear Regression Model RMSE: %6.4f\" %(evaluator.evaluate(lr_model.transform(test))))\n",
    "print(\"Linear Regression Model R2: %6.4f\" %(evaluator2.evaluate(lr_model.transform(test))))\n",
    "print(\"Decision Tree Regression Model RMSE: %6.4f\" %(evaluator.evaluate(dt_model.transform(test))))\n",
    "print(\"Decision Tree Regression Model R2: %6.4f\" %(evaluator2.evaluate(dt_model.transform(test))))\n",
    "print(\"Gradient-Boosted Tree Regression Model RMSE: %6.4f\" %(evaluator.evaluate(gbt_model.transform(test))))\n",
    "print(\"Gradient-Boosted Tree Regression Model R2: %6.4f\" %(evaluator2.evaluate(gbt_model.transform(test))))"
   ]
  },
  {
   "cell_type": "markdown",
   "metadata": {},
   "source": [
    "The MSE of all 3 models are very high, which does not reflect a good regression model. Perhaps having only the timbre averages and covariances as audio features are insufficient towards predicting the release year of a song.\n",
    "\n",
    "A re-attempt at this problem can be made with perhaps more audio features such as pitch, amplitude, etc."
   ]
  }
 ],
 "metadata": {
  "kernelspec": {
   "display_name": "Python 3 (ipykernel)",
   "language": "python",
   "name": "python3"
  },
  "language_info": {
   "codemirror_mode": {
    "name": "ipython",
    "version": 3
   },
   "file_extension": ".py",
   "mimetype": "text/x-python",
   "name": "python",
   "nbconvert_exporter": "python",
   "pygments_lexer": "ipython3",
   "version": "3.8.12"
  }
 },
 "nbformat": 4,
 "nbformat_minor": 4
}
