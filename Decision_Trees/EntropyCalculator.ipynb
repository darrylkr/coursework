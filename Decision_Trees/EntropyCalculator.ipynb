{
 "cells": [
  {
   "cell_type": "code",
   "execution_count": 1,
   "metadata": {
    "ExecuteTime": {
     "end_time": "2021-03-09T19:52:36.093204Z",
     "start_time": "2021-03-09T19:52:35.394047Z"
    }
   },
   "outputs": [],
   "source": [
    "import pandas as pd\n",
    "import numpy as np"
   ]
  },
  {
   "cell_type": "markdown",
   "metadata": {},
   "source": [
    "[215/256 * (-log2(215 / 256))] + [41/256 * (-log2(41 / 256))] = 0.6245354 approx\n",
    "\n",
    "Calculate children nodes:\n",
    "Left: [188/204 * (-log2(188 / 204))] + [16/204 * (-log2(16 / 204))] = 0.39662778 approx\n",
    "Right: [27/52 * (-log2(27/52))] + [25/52 * (-log2(25/52))] = 0.9989327 approx\n"
   ]
  },
  {
   "cell_type": "code",
   "execution_count": 32,
   "metadata": {
    "ExecuteTime": {
     "end_time": "2021-03-09T20:09:09.885790Z",
     "start_time": "2021-03-09T20:09:09.870278Z"
    }
   },
   "outputs": [],
   "source": [
    "def entropy(nomL, nomR, denom):\n",
    "    probL = nomL/denom\n",
    "    probR = nomR/denom \n",
    "    entropyL = probL * (-np.log2(probL))\n",
    "    entropyR = probR * (-np.log2(probR))\n",
    "    entropy = entropyL + entropyR\n",
    "    return entropy"
   ]
  },
  {
   "cell_type": "code",
   "execution_count": 63,
   "metadata": {
    "ExecuteTime": {
     "end_time": "2021-03-11T04:12:34.640087Z",
     "start_time": "2021-03-11T04:12:34.625084Z"
    }
   },
   "outputs": [],
   "source": [
    "parent = entropy(302, 74, 376)"
   ]
  },
  {
   "cell_type": "code",
   "execution_count": 64,
   "metadata": {
    "ExecuteTime": {
     "end_time": "2021-03-11T04:12:35.424087Z",
     "start_time": "2021-03-11T04:12:35.408084Z"
    }
   },
   "outputs": [
    {
     "data": {
      "text/plain": [
       "0.7154990103672221"
      ]
     },
     "execution_count": 64,
     "metadata": {},
     "output_type": "execute_result"
    }
   ],
   "source": [
    "parent"
   ]
  },
  {
   "cell_type": "code",
   "execution_count": 47,
   "metadata": {
    "ExecuteTime": {
     "end_time": "2021-03-09T20:16:02.867894Z",
     "start_time": "2021-03-09T20:16:02.861892Z"
    }
   },
   "outputs": [],
   "source": [
    "def childEntropy(nomL1, nomL2, denomL, nomR1, nomR2, denomR):\n",
    "    probLeft1 = nomL1/denomL\n",
    "    probLeft2 = nomL2/denomL\n",
    "    probRight1 = nomR1/denomR\n",
    "    probRight2 = nomR2/denomR\n",
    "    \n",
    "    entropyLeft1 = probLeft1 * (-np.log2(probLeft1))\n",
    "    entropyLeft2 = probLeft2 * (-np.log2(probLeft2))\n",
    "    entropyLeft = entropyLeft1 + entropyLeft2\n",
    "    \n",
    "    entropyRight1 = probRight1 * (-np.log2(probRight1))\n",
    "    entropyRight2 = probRight2 * (-np.log2(probRight2))\n",
    "    entropyRight = entropyRight1 + entropyRight2\n",
    "    \n",
    "    denom = denomL + denomR\n",
    "    nomL = nomL1+nomL2\n",
    "    nomR = nomR1+nomR2\n",
    "    LHS = nomL/denom\n",
    "    RHS = nomR/denom\n",
    "    \n",
    "    childEntropy = (LHS * entropyLeft) + (RHS * entropyRight)\n",
    "    \n",
    "    return childEntropy"
   ]
  },
  {
   "cell_type": "code",
   "execution_count": 65,
   "metadata": {
    "ExecuteTime": {
     "end_time": "2021-03-11T04:15:04.699694Z",
     "start_time": "2021-03-11T04:15:04.672146Z"
    }
   },
   "outputs": [],
   "source": [
    "child = childEntropy(46, 378, 424, 302, 74, 376)"
   ]
  },
  {
   "cell_type": "code",
   "execution_count": 66,
   "metadata": {
    "ExecuteTime": {
     "end_time": "2021-03-11T04:15:05.761087Z",
     "start_time": "2021-03-11T04:15:05.751078Z"
    }
   },
   "outputs": [
    {
     "data": {
      "text/plain": [
       "0.5988180178733549"
      ]
     },
     "execution_count": 66,
     "metadata": {},
     "output_type": "execute_result"
    }
   ],
   "source": [
    "child"
   ]
  },
  {
   "cell_type": "code",
   "execution_count": 49,
   "metadata": {
    "ExecuteTime": {
     "end_time": "2021-03-09T20:16:29.839016Z",
     "start_time": "2021-03-09T20:16:29.829741Z"
    }
   },
   "outputs": [],
   "source": [
    "def infoGain(parent, child):\n",
    "    gain = parent - child\n",
    "    return gain"
   ]
  },
  {
   "cell_type": "code",
   "execution_count": 52,
   "metadata": {
    "ExecuteTime": {
     "end_time": "2021-03-09T20:16:47.542406Z",
     "start_time": "2021-03-09T20:16:47.525403Z"
    }
   },
   "outputs": [
    {
     "data": {
      "text/plain": [
       "0.11571227133429796"
      ]
     },
     "execution_count": 52,
     "metadata": {},
     "output_type": "execute_result"
    }
   ],
   "source": [
    "infoGain(parent, child)"
   ]
  },
  {
   "cell_type": "code",
   "execution_count": null,
   "metadata": {},
   "outputs": [],
   "source": []
  },
  {
   "cell_type": "code",
   "execution_count": null,
   "metadata": {},
   "outputs": [],
   "source": []
  }
 ],
 "metadata": {
  "kernelspec": {
   "display_name": "Python 3",
   "language": "python",
   "name": "python3"
  },
  "language_info": {
   "codemirror_mode": {
    "name": "ipython",
    "version": 3
   },
   "file_extension": ".py",
   "mimetype": "text/x-python",
   "name": "python",
   "nbconvert_exporter": "python",
   "pygments_lexer": "ipython3",
   "version": "3.8.5"
  }
 },
 "nbformat": 4,
 "nbformat_minor": 4
}
